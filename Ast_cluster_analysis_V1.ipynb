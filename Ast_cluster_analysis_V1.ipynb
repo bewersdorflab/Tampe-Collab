{
 "cells": [
  {
   "cell_type": "code",
   "execution_count": 40,
   "metadata": {},
   "outputs": [],
   "source": [
    "import numpy as np\n",
    "import matplotlib.pyplot as plt\n",
    "\n",
    "#Colorblind friendly colors\n",
    "CB_color_cycle = ['#377eb8', '#ff7f00', '#4daf4a',\n",
    "                  '#f781bf', '#a65628', '#984ea3',\n",
    "                  '#999999', '#e41a1c', '#dede00']\n",
    "\n",
    "# PARAMETERS to Change\n",
    "# Data\n",
    "name = 'Core'   #'Full' or 'Core'\n",
    "\n",
    "if name == 'Full':\n",
    "    # TAP1-Full\n",
    "    # Save location\n",
    "    savedir = \"C:\\\\Users\\\\laf62\\\\Desktop\\\\LAF-Drive\\\\Yale_University\\\\Bewersdorf_Lab\\\\Tampe-Collab\\\\cluster-analysis\"\n",
    "    # File path to folder containing csv files with cluster measurements\n",
    "    ddir = [\"C:\\\\Users\\\\laf62\\\\Desktop\\\\LAF-Drive\\\\Yale_University\\\\Bewersdorf_Lab\\\\Tampe-Collab\\\\ROI1_cluster_measures.csv\"]\n",
    "    ddir_stand = [\"C:\\\\Users\\\\laf62\\\\Desktop\\\\LAF-Drive\\\\Yale_University\\\\Bewersdorf_Lab\\\\Tampe-Collab\\\\ROI2_background-standard_cluster_measures.csv\"]\n",
    "elif name == 'Core':\n",
    "    #TAP1-Core\n",
    "    # Save location\n",
    "    savedir = \"C:\\\\Users\\\\laf62\\\\Desktop\\\\LAF-Drive\\\\Yale_University\\\\Bewersdorf_Lab\\\\Tampe-Collab\\\\TAP1-Core\\\\cluster-analysis\"\n",
    "    # File path to folder containing csv files with cluster measurements\n",
    "    ddir = [\"C:\\\\Users\\\\laf62\\\\Desktop\\\\LAF-Drive\\\\Yale_University\\\\Bewersdorf_Lab\\\\Tampe-Collab\\\\TAP1-Core\\\\cluster-analysis\\\\TAP1-Core_ROI1_measure_clusters.csv\"]\n",
    "    ddir_stand = [\"C:\\\\Users\\\\laf62\\\\Desktop\\\\LAF-Drive\\\\Yale_University\\\\Bewersdorf_Lab\\\\Tampe-Collab\\\\TAP1-Core\\\\cluster-analysis\\\\TAP1-Core_ROI2-background_measure_clusters.csv\"]\n",
    "ver = 'V1' #version name for files to not overwrite old ones\n",
    "fnum = 1 #number of files to read\n",
    "    \n",
    "params = {'datadir': ddir, 'savedir': savedir}\n",
    "params_stand = {'datadir': ddir_stand, 'savedir': savedir}"
   ]
  },
  {
   "cell_type": "code",
   "execution_count": 41,
   "metadata": {
    "jupyter": {
     "source_hidden": true
    }
   },
   "outputs": [],
   "source": [
    "# Function to read .csv file from measure_clusters3D\n",
    "def read_clusters(params):\n",
    "    # Read data except for axes which are more involved\n",
    "    clust_data = []\n",
    "    cluster_output_all = []\n",
    "    circ_sims_all = []\n",
    "    line_sims_all = []\n",
    "    adj_sims_all = []\n",
    "    for dt in range(len(params['datadir'])):\n",
    "        c_data = np.genfromtxt(params['datadir'][dt], delimiter = ',')\n",
    "        clust = {\"count\": c_data[:,0], \"x\": c_data[:,1], \"y\": c_data[:,2], \"z\": c_data[:,3], \"gyrationRadius\": c_data[:,4], \n",
    "                \"median_abs_deviation\": c_data[:,5], \"sigma0\": c_data[:,9], \"sigma1\": c_data[:,10], \"sigma2\": c_data[:,11], \n",
    "                \"sigma_x\": c_data[:,12], \"sigma_y\": c_data[:,13], \"sigma_z\": c_data[:,14], \"anisotropy\": c_data[:,15], \n",
    "                \"theta\": c_data[:,16], \"phi\": c_data[:,17]}\n",
    "\n",
    "        #making save-folder if it doesn't exist (DON'T TOUCH THE NEXT 5 LINES)\n",
    "        from pathlib import Path\n",
    "        import os\n",
    "        p = Path(params['savedir'])\n",
    "        if not p.exists():\n",
    "            os.mkdir(params['savedir'])\n",
    "        workdir = os.getcwd()\n",
    "\n",
    "        import pandas as pd\n",
    "        import copy\n",
    "\n",
    "        if 'check1' in locals():\n",
    "            del check1\n",
    "        if 'check2' in locals():\n",
    "            del check2\n",
    "        if 'x' in locals():\n",
    "            del x\n",
    "        if 'y' in locals():\n",
    "            del y\n",
    "        if 'z' in locals():\n",
    "            del z\n",
    "\n",
    "        # Initialize variables\n",
    "        csv_file = pd.read_csv(params['datadir'][dt], sep=',', header=None)\n",
    "        clusto = {\"axis0\": np.copy(csv_file[6][1:].values), \"axis1\": np.copy(csv_file[7][1:].values), \n",
    "                  \"axis2\": np.copy(csv_file[8][1:].values)}\n",
    "        clust['axis0'] = np.zeros((len(clust['count']),3))\n",
    "        clust['axis1'] = np.zeros((len(clust['count']),3))\n",
    "        clust['axis2'] = np.zeros((len(clust['count']),3))\n",
    "\n",
    "\n",
    "        # Convert 'axis0', 'axis1', and 'axis2' values to floats from strings\n",
    "        # axis0\n",
    "        for a in range(len(clusto[\"axis0\"])):\n",
    "            #print('a:',a)\n",
    "            if a > 0:\n",
    "                del x,y,z,check1,check2\n",
    "            if clusto['axis0'][a][2:4] == '[ ': \n",
    "                for b in range(1,len(clusto['axis0'][a])):\n",
    "                    if clusto['axis0'][a][b] == ' ' and 'check1' not in locals():\n",
    "                        check1 = b\n",
    "                    elif clusto['axis0'][a][b] == ' ' and 'check2' not in locals():\n",
    "                        x = float(clusto['axis0'][a][3:b])\n",
    "                        check2 = b\n",
    "                    elif clusto['axis0'][a][b] == ' ' and clusto['axis0'][a][b-1] != ' ' and 'check2' in locals() and 'y' not in locals():             \n",
    "                        y = float(clusto['axis0'][a][check2:b])\n",
    "                        z = float(clusto['axis0'][a][b:-2])\n",
    "            elif clusto['axis0'][a][2] == '[' and clusto['axis0'][a][3] != ' ': \n",
    "                for b in range(1,len(clusto['axis0'][a])):\n",
    "                    if clusto['axis0'][a][b] == ' ' and 'check1' not in locals():\n",
    "                        check1 = b\n",
    "                        x = float(clusto['axis0'][a][3:b])\n",
    "                    elif clusto['axis0'][a][b] == ' ' and clusto['axis0'][a][b-1] != ' ' and 'check2' not in locals() and 'y' not in locals():# 'check2' not in locals():\n",
    "                        y = float(clusto['axis0'][a][check1:b])\n",
    "                        z = float(clusto['axis0'][a][b:-2])\n",
    "                        check2 = b\n",
    "            clust['axis0'][a] = np.array([x, y, z])\n",
    "        del check1, check2, x, y, z, a, b\n",
    "\n",
    "        # axis1\n",
    "        for c in range(len(clusto[\"axis1\"])):\n",
    "            if c > 0:\n",
    "                del x,y,z,check1,check2\n",
    "            if clusto['axis1'][c][2:4] == '[ ': \n",
    "                for d in range(1,len(clusto['axis1'][c])):\n",
    "                    if clusto['axis1'][c][d] == ' ' and 'check1' not in locals():\n",
    "                        check1 = d\n",
    "                    elif clusto['axis1'][c][d] == ' ' and 'check2' not in locals():\n",
    "                        x = float(clusto['axis1'][c][3:d])\n",
    "                        check2 = d\n",
    "                    elif clusto['axis1'][c][d] == ' ' and clusto['axis1'][c][d-1] != ' ' and 'check2' in locals() and 'y' not in locals():             \n",
    "                        y = float(clusto['axis1'][c][check2:d])\n",
    "                        z = float(clusto['axis1'][c][d:-2])\n",
    "            elif clusto['axis1'][c][2] == '[' and clusto['axis1'][c][3] != ' ': \n",
    "                for d in range(1,len(clusto['axis1'][c])):\n",
    "                    if clusto['axis1'][c][d] == ' ' and 'check1' not in locals():\n",
    "                        check1 = d\n",
    "                        x = float(clusto['axis1'][c][3:d])\n",
    "                    elif clusto['axis1'][c][d] == ' ' and clusto['axis1'][c][d-1] != ' ' and 'check2' not in locals() and 'y' not in locals():# 'check2' not in locals():\n",
    "                        y = float(clusto['axis1'][c][check1:d])\n",
    "                        z = float(clusto['axis1'][c][d:-2])\n",
    "                        check2 = d\n",
    "            clust['axis1'][c] = np.array([x, y, z])\n",
    "        del check1, check2, x, y, z, c, d\n",
    "\n",
    "        # axis2\n",
    "        for e in range(len(clusto[\"axis2\"])):\n",
    "            if e > 0:\n",
    "                del x,y,z,check1,check2\n",
    "            if clusto['axis2'][e][2:4] == '[ ':\n",
    "                for f in range(1,len(clusto['axis2'][e])):\n",
    "                    if clusto['axis2'][e][f] == ' ' and 'check1' not in locals():\n",
    "                        check1 = f\n",
    "                    elif clusto['axis2'][e][f] == ' ' and 'check2' not in locals():\n",
    "                        x = float(clusto['axis2'][e][3:f])\n",
    "                        check2 = f\n",
    "                    elif clusto['axis2'][e][f] == ' ' and clusto['axis2'][e][f-1] != ' ' and 'check2' in locals() and 'y' not in locals():             \n",
    "                        y = float(clusto['axis2'][e][check2:f])\n",
    "                        z = float(clusto['axis2'][e][f:-2])\n",
    "            elif clusto['axis2'][e][2] == '[' and clusto['axis2'][e][3] != ' ':\n",
    "                for f in range(1,len(clusto['axis2'][e])):\n",
    "                    if clusto['axis2'][e][f] == ' ' and 'check1' not in locals():\n",
    "                        check1 = f\n",
    "                        x = float(clusto['axis2'][e][3:f])\n",
    "                    elif clusto['axis2'][e][f] == ' ' and clusto['axis2'][e][f-1] != ' ' and 'check2' not in locals() and 'y' not in locals():# 'check2' not in locals():\n",
    "                        y = float(clusto['axis2'][e][check1:f])\n",
    "                        z = float(clusto['axis2'][e][f:-2])\n",
    "                        check2 = f\n",
    "            clust['axis2'][e] = np.array([x, y, z])\n",
    "\n",
    "        clust_data.append(clust)\n",
    "        return clust_data"
   ]
  },
  {
   "cell_type": "code",
   "execution_count": 42,
   "metadata": {},
   "outputs": [],
   "source": [
    "# Read csv files\n",
    "clusts = read_clusters(params)\n",
    "clusts_stand = read_clusters(params_stand)"
   ]
  },
  {
   "cell_type": "code",
   "execution_count": 50,
   "metadata": {},
   "outputs": [],
   "source": [
    "# Calculate number of proteins per cluster\n",
    "med_stand = np.median(clusts_stand[0]['count'])\n",
    "nProtein = clusts[0]['count']/med_stand"
   ]
  },
  {
   "cell_type": "code",
   "execution_count": 51,
   "metadata": {},
   "outputs": [
    {
     "data": {
      "image/png": "[encoded data removed]",
      "text/plain": [
       "<Figure size 432x288 with 1 Axes>"
      ]
     },
     "metadata": {
      "needs_background": "light"
     },
     "output_type": "display_data"
    }
   ],
   "source": [
    "plt.rcParams.update({'font.size': 12})\n",
    "for c in range(fnum):\n",
    "    med = np.median(nProtein)\n",
    "    n, bins, patches = plt.hist(x=nProtein,bins=20, alpha=0.3, rwidth=1, density=True, \n",
    "                                color=CB_color_cycle[c],range=(0,20), \n",
    "                                label='Exp. ' + str(int(c+1)),edgecolor='k' )\n",
    "\n",
    "    n_max = np.max(n,axis=0)\n",
    "    plt.axvline(x=med, linestyle='--',color='tab:red',alpha=1)\n",
    "    plt.text(med+0.5,np.max(n_max)-0.01,str(np.round(med,2)),color='tab:red', fontsize='large')\n",
    "    plt.xlabel('# of proteins in each cluster')\n",
    "    plt.ylabel('Normalized frequency')\n",
    "    plt.legend()\n",
    "    hist_save = savedir + '\\\\' + dname + '_'+str(int(c+1))+'hist_' + ver + '.png'\n",
    "    plt.savefig(hist_save, dpi=600, facecolor='w', edgecolor='w',\n",
    "            orientation='portrait', format=None,\n",
    "            transparent=False, bbox_inches=None, pad_inches=0.1, metadata=None)\n",
    "    plt.show()\n",
    "    plt.close(fig=None)"
   ]
  },
  {
   "cell_type": "code",
   "execution_count": 48,
   "metadata": {},
   "outputs": [
    {
     "data": {
      "text/plain": [
       "1.1818181818181819"
      ]
     },
     "execution_count": 48,
     "metadata": {},
     "output_type": "execute_result"
    }
   ],
   "source": [
    "med_stand"
   ]
  },
  {
   "cell_type": "code",
   "execution_count": null,
   "metadata": {},
   "outputs": [],
   "source": []
  }
 ],
 "metadata": {
  "kernelspec": {
   "display_name": "Python 3",
   "language": "python",
   "name": "python3"
  },
  "language_info": {
   "codemirror_mode": {
    "name": "ipython",
    "version": 3
   },
   "file_extension": ".py",
   "mimetype": "text/x-python",
   "name": "python",
   "nbconvert_exporter": "python",
   "pygments_lexer": "ipython3",
   "version": "3.8.3"
  }
 },
 "nbformat": 4,
 "nbformat_minor": 4
}
